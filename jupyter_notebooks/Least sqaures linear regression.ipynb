{
 "cells": [
  {
   "cell_type": "code",
   "execution_count": 19,
   "metadata": {
    "collapsed": false,
    "slideshow": {
     "slide_type": "skip"
    }
   },
   "outputs": [],
   "source": [
    "%matplotlib inline\n",
    "import matplotlib\n",
    "import numpy as np\n",
    "from matplotlib import pyplot as plt\n",
    "from scipy.optimize import leastsq\n",
    "from scipy.linalg import inv, svd\n",
    "from scipy.stats import linregress"
   ]
  },
  {
   "cell_type": "markdown",
   "metadata": {
    "slideshow": {
     "slide_type": "slide"
    }
   },
   "source": [
    "# Multivariate Gaussian distrubution"
   ]
  },
  {
   "cell_type": "markdown",
   "metadata": {
    "slideshow": {
     "slide_type": "slide"
    }
   },
   "source": [
    "### generate random data"
   ]
  },
  {
   "cell_type": "code",
   "execution_count": 2,
   "metadata": {
    "collapsed": false,
    "slideshow": {
     "slide_type": "subslide"
    }
   },
   "outputs": [
    {
     "name": "stdout",
     "output_type": "stream",
     "text": [
      "(50, 2)\n"
     ]
    }
   ],
   "source": [
    "np.random.seed(1) # random seed for consistency\n",
    "N = 50\n",
    "cov_eigenvalues = [1, 10]\n",
    "\n",
    "angle = 10\n",
    "theta = (angle/180.) * np.pi\n",
    "rotMatrix = np.array([[np.cos(theta), -np.sin(theta)], \n",
    "                      [np.sin(theta),  np.cos(theta)]])\n",
    "\n",
    "cov_mat = np.matrix([[1, 0],[0, 10]]) * rotMatrix\n",
    "all_samples = np.random.multivariate_normal([15, 10], cov_mat, N)\n",
    "X = np.matrix(np.hstack([np.ones((N, 1)), all_samples[:, 0:1]]))\n",
    "y = np.matrix(all_samples[:, 1:2])\n",
    "print X.shape"
   ]
  },
  {
   "cell_type": "markdown",
   "metadata": {
    "slideshow": {
     "slide_type": "slide"
    }
   },
   "source": [
    "### plot data with original cluster colors"
   ]
  },
  {
   "cell_type": "code",
   "execution_count": 3,
   "metadata": {
    "collapsed": false,
    "scrolled": true,
    "slideshow": {
     "slide_type": "subslide"
    }
   },
   "outputs": [
    {
     "data": {
      "image/png": "[encoded data removed]",
      "text/plain": [
       "<matplotlib.figure.Figure at 0x7f5f54c5df50>"
      ]
     },
     "metadata": {},
     "output_type": "display_data"
    }
   ],
   "source": [
    "fig = plt.figure(figsize=(5,5))\n",
    "ax = fig.add_subplot(1,1,1)\n",
    "ax.scatter(X[:,1], y, s=20, alpha=1, linewidth=0)\n",
    "ax.set_xlim(10, 20)\n",
    "ax.set_ylim(4, 18)\n",
    "plt.show()"
   ]
  },
  {
   "cell_type": "markdown",
   "metadata": {
    "slideshow": {
     "slide_type": "slide"
    }
   },
   "source": [
    "### Performing Ordinary Least Squares"
   ]
  },
  {
   "cell_type": "code",
   "execution_count": 4,
   "metadata": {
    "collapsed": false
   },
   "outputs": [
    {
     "name": "stdout",
     "output_type": "stream",
     "text": [
      "(50, 2)\n",
      "(50, 1)\n",
      "(50, 1)\n"
     ]
    },
    {
     "data": {
      "image/png": "[encoded data removed]",
      "text/plain": [
       "<matplotlib.figure.Figure at 0x7f5f52709a90>"
      ]
     },
     "metadata": {},
     "output_type": "display_data"
    }
   ],
   "source": [
    "beta = inv(X.T*X) * X.T * y\n",
    "\n",
    "y_pred = X*beta\n",
    "fig = plt.figure(figsize=(5,5))\n",
    "ax = fig.add_subplot(1,1,1)\n",
    "ax.scatter(X[:,1], y, s=10, alpha=1, linewidth=0)\n",
    "for i in xrange(X.shape[0]):\n",
    "    ax.plot([X[i,1], X[i,1]], [y[i,0], y_pred[i,0]], 'r-', alpha=0.3)\n",
    "\n",
    "X_new = np.matrix([[1, 10], [1, 20]])\n",
    "y_pred_new = X_new*beta\n",
    "ax.plot(X_new[:,1], y_pred_new, 'g-')\n",
    "ax.set_xlim(10, 20)\n",
    "ax.set_ylim(4, 18)\n",
    "ax.text(11, 16, 'OLS', fontsize=20)\n",
    "\n",
    "plt.show()"
   ]
  },
  {
   "cell_type": "markdown",
   "metadata": {},
   "source": [
    "### Performing Total Least Squares"
   ]
  },
  {
   "cell_type": "code",
   "execution_count": 5,
   "metadata": {
    "collapsed": false
   },
   "outputs": [
    {
     "data": {
      "image/png": "[encoded data removed]",
      "text/plain": [
       "<matplotlib.figure.Figure at 0x7f5f52541150>"
      ]
     },
     "metadata": {},
     "output_type": "display_data"
    }
   ],
   "source": [
    "Xy = np.hstack([X, y])\n",
    "mu_Xy = np.mean(Xy, 0)\n",
    "\n",
    "Xy_centered = Xy - np.ones((N, 1)) * mu_Xy # subtract the mean from each sample\n",
    "eig_vec, eig_val, _ = svd(Xy_centered.T)\n",
    "n = eig_vec[:, 0:1]\n",
    "\n",
    "project = lambda X : X * (n.T*n) + np.ones((X.shape[0], 1)) * mu_Xy\n",
    "Xy_projected = project(Xy_centered)\n",
    "\n",
    "X_new = project(np.matrix([[1, 0, -8], [1, 0, 8]]))\n",
    "\n",
    "fig = plt.figure(figsize=(5,5))\n",
    "ax = fig.add_subplot(1,1,1)\n",
    "ax.scatter(Xy[:,1], Xy[:, 2], s=10, alpha=1, linewidth=0)\n",
    "for i in xrange(N):\n",
    "    ax.plot([Xy[i,1], Xy_projected[i,1]], [Xy[i,2], Xy_projected[i,2]], 'r-')\n",
    "\n",
    "ax.plot(X_new[:,1], X_new[:,2], 'g-')\n",
    "ax.set_xlim(10, 20)\n",
    "ax.set_ylim(4, 18)\n",
    "ax.text(11, 16, 'TLS', fontsize=20)\n",
    "\n",
    "plt.show()\n"
   ]
  },
  {
   "cell_type": "markdown",
   "metadata": {},
   "source": [
    "# example with bimodal distribution"
   ]
  },
  {
   "cell_type": "code",
   "execution_count": 34,
   "metadata": {
    "collapsed": false
   },
   "outputs": [
    {
     "data": {
      "image/png": "[encoded data removed]",
      "text/plain": [
       "<matplotlib.figure.Figure at 0x7f5f5114bdd0>"
      ]
     },
     "metadata": {},
     "output_type": "display_data"
    }
   ],
   "source": [
    "np.random.seed(1) # random seed for consistency\n",
    "N2 = 30\n",
    "\n",
    "class1_sample = np.random.multivariate_normal(np.array([0,0]), np.eye(2), N2/2).T\n",
    "class2_sample = np.random.multivariate_normal(np.array([7,7]), np.eye(2), N2/2).T\n",
    "all_samples2 = np.hstack((class1_sample, class2_sample)).T\n",
    "X2 = np.matrix(np.hstack([np.ones((N2, 1)), all_samples2[:, 0:1]]))\n",
    "y2 = np.matrix(all_samples2[:, 1:2])\n",
    "\n",
    "beta2 = inv(X2.T*X2) * X2.T * y2\n",
    "\n",
    "fig = plt.figure(figsize=(5,5))\n",
    "ax = fig.add_subplot(1,1,1)\n",
    "X2_new = np.matrix([[1, -5], [1, 9]])\n",
    "y2_pred_new = X2_new*beta2\n",
    "\n",
    "ax.scatter(X2[:,1], y2, s=20, alpha=1, linewidth=0)\n",
    "ax.plot(X2_new[:,1], y2_pred_new, 'g-')\n",
    "slope, intercept, r_value, p_value, std_err = linregress(X2[:, 1].flat, y2.flat)\n",
    "ax.text(-5, 9, 'OLS, $R^2$ = %.2f' % (r_value**2), fontsize=20)\n",
    "\n",
    "plt.show()"
   ]
  }
 ],
 "metadata": {
  "kernelspec": {
   "display_name": "Python 2",
   "language": "python",
   "name": "python2"
  },
  "language_info": {
   "codemirror_mode": {
    "name": "ipython",
    "version": 2
   },
   "file_extension": ".py",
   "mimetype": "text/x-python",
   "name": "python",
   "nbconvert_exporter": "python",
   "pygments_lexer": "ipython2",
   "version": "2.7.10"
  }
 },
 "nbformat": 4,
 "nbformat_minor": 0
}
